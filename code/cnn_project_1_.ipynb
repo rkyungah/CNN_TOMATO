{
 "cells": [
  {
   "cell_type": "code",
   "execution_count": 1,
   "metadata": {
    "colab": {},
    "colab_type": "code",
    "id": "fu4AiF4KIY3B",
    "outputId": "d87f2d53-fbe7-45cb-aa84-31dae22a066b"
   },
   "outputs": [
    {
     "name": "stdout",
     "output_type": "stream",
     "text": [
      "Collecting opencv-python\n",
      "  Downloading https://files.pythonhosted.org/packages/1f/51/e0b9cef23098bc31c77b0e06221dd8d05119b9782d4c2b1d1482e22b5f5e/opencv_python-4.1.1.26-cp37-cp37m-win_amd64.whl (39.0MB)\n",
      "Requirement already satisfied: numpy>=1.14.5 in c:\\python\\anaconda3\\lib\\site-packages (from opencv-python) (1.16.1)\n",
      "Installing collected packages: opencv-python\n",
      "Successfully installed opencv-python-4.1.1.26\n"
     ]
    }
   ],
   "source": [
    "!pip install opencv-python"
   ]
  },
  {
   "cell_type": "code",
   "execution_count": 90,
   "metadata": {
    "colab": {},
    "colab_type": "code",
    "id": "KPFnxu54Szyf"
   },
   "outputs": [],
   "source": [
    "import cv2\n",
    "import matplotlib.pyplot as plt\n",
    "import os\n",
    "import numpy as np\n",
    "import pandas as pd"
   ]
  },
  {
   "cell_type": "code",
   "execution_count": 91,
   "metadata": {
    "colab": {
     "base_uri": "https://localhost:8080/",
     "height": 287
    },
    "colab_type": "code",
    "executionInfo": {
     "elapsed": 1195,
     "status": "ok",
     "timestamp": 1571188596316,
     "user": {
      "displayName": "양한솔",
      "photoUrl": "",
      "userId": "12251541929954576282"
     },
     "user_tz": -540
    },
    "id": "L1uvxiBpTOMV",
    "outputId": "3c357991-3e0c-485e-c4f4-cbc96595ae74"
   },
   "outputs": [],
   "source": [
    "# plt.imshow(img)"
   ]
  },
  {
   "cell_type": "code",
   "execution_count": 92,
   "metadata": {
    "colab": {
     "base_uri": "https://localhost:8080/",
     "height": 35
    },
    "colab_type": "code",
    "executionInfo": {
     "elapsed": 2244,
     "status": "ok",
     "timestamp": 1571188602511,
     "user": {
      "displayName": "양한솔",
      "photoUrl": "",
      "userId": "12251541929954576282"
     },
     "user_tz": -540
    },
    "id": "WRRq1-MMUni1",
    "outputId": "9b7484ee-998a-4db1-b4e2-11c0ff9a02d9"
   },
   "outputs": [],
   "source": [
    "# import keras\n",
    "# import tensorflow as tf\n",
    "# import numpy as np"
   ]
  },
  {
   "cell_type": "markdown",
   "metadata": {
    "colab_type": "text",
    "id": "XKcJOwAhbJ5v"
   },
   "source": [
    "## dataset"
   ]
  },
  {
   "cell_type": "markdown",
   "metadata": {
    "colab_type": "text",
    "id": "2WpD_u02bP55"
   },
   "source": [
    "이미지 파일들을 학습하기 위해서는 해당 이미지 파일들을 숫자 배열로 저장해야합니다. 당연히 여기서 숫자 배열을 픽셀을 의미합니다. \n",
    "\n",
    "\n",
    "\n",
    " 저 같은 경우 카테고리 별로 cnn_sample 폴더 내에 카테고리별로 폴더를 생성하고 각각 이미지들을 정리하였습니다. \n",
    "\n",
    "소스 코드 내 categories 변수는 카테고리 명뿐만 아니라 폴더를 찾는 용도로 사용하기 때문에 해당 class의 이미지들이 들어가 있는 폴더명을 넣어주시면 됩니다. "
   ]
  },
  {
   "cell_type": "code",
   "execution_count": 93,
   "metadata": {
    "colab": {},
    "colab_type": "code",
    "id": "J5MDgevWbQpz"
   },
   "outputs": [],
   "source": [
    "groups_folder_path = './cnn_sample/cnn_samples/'\n",
    "categories = [ \"red\", \"green\"]\n",
    "num_classes = len(categories)"
   ]
  },
  {
   "cell_type": "code",
   "execution_count": 94,
   "metadata": {
    "colab": {},
    "colab_type": "code",
    "id": "aGchQUpXbTtp"
   },
   "outputs": [],
   "source": [
    "image_w = 32\n",
    "image_h = 32\n",
    "  \n",
    "X = []\n",
    "Y = []\n",
    "  \n",
    "for idex, categorie in enumerate(categories):\n",
    "    label = [0 for i in range(num_classes)]\n",
    "    label[idex] = 1\n",
    "    image_dir = groups_folder_path + categorie + '/'\n",
    "  \n",
    "    for top, dir, f in os.walk(image_dir):\n",
    "        for filename in f:\n",
    "            print(image_dir+filename)\n",
    "            img = cv2.imread(image_dir+filename)\n",
    "            img = cv2.resize(img, None, fx=image_w/img.shape[0], fy=image_h/img.shape[1])\n",
    "            X.append(img/255)\n",
    "            Y.append(label)\n",
    "X = []\n",
    "Y = []"
   ]
  },
  {
   "cell_type": "code",
   "execution_count": 95,
   "metadata": {
    "colab": {},
    "colab_type": "code",
    "id": "ei79d-YgbTv4"
   },
   "outputs": [],
   "source": [
    "# img = cv2.imread(image_dir+filename)\n",
    "# img = cv2.resize(img, None, fx=image_w/img.shape[0], fy=image_h/img.shape[1])\n",
    "# X.append(img/255)\n",
    "# Y.append(label)"
   ]
  },
  {
   "cell_type": "code",
   "execution_count": 96,
   "metadata": {
    "colab": {},
    "colab_type": "code",
    "id": "TRS06kfybTyT",
    "outputId": "b5fd779d-d4c8-4848-a688-c24d28dd7cee"
   },
   "outputs": [
    {
     "name": "stdout",
     "output_type": "stream",
     "text": [
      "./cnn_sample/cnn_sample/red/1.image.png\n",
      "./cnn_sample/cnn_sample/red/1.jpg\n",
      "./cnn_sample/cnn_sample/red/1.tomatoes_c_Kanawa_Studio-iStock-GettyImages-1163317374-LEDE.jpg\n",
      "./cnn_sample/cnn_sample/red/10.jpg\n",
      "./cnn_sample/cnn_sample/red/10.tomatoes-406-1.jpg\n",
      "./cnn_sample/cnn_sample/red/10.tomatoes.jpg\n",
      "./cnn_sample/cnn_sample/red/12.redtomato-370x229.jpg\n",
      "./cnn_sample/cnn_sample/red/127_100.jpg\n",
      "./cnn_sample/cnn_sample/red/13.%ED%86%A0%EB%A7%88%ED%86%A0%ED%95%98%EB%A9%B4-%EB%B9%A0%EC%A7%88-%EC%88%98-%EC%97%86%EB%8A%94-%EB%9D%BC%EC%9D%B4%EC%BD%94%ED%8E%9C.png\n",
      "./cnn_sample/cnn_sample/red/13.tomatoes-close-up.jpg\n",
      "./cnn_sample/cnn_sample/red/144_100.jpg\n",
      "./cnn_sample/cnn_sample/red/155_100.jpg\n",
      "./cnn_sample/cnn_sample/red/16.3a9fc9a51f6f4e47a9ebd36bf30a4604.jpg\n",
      "./cnn_sample/cnn_sample/red/17.tomatoes_helios4eos_gettyimages-edit.jpeg\n",
      "./cnn_sample/cnn_sample/red/19.thumb_d_E8FF5517608DC4A792822212F47C7052.jpg\n",
      "./cnn_sample/cnn_sample/red/19.tomatoes.jpg\n",
      "./cnn_sample/cnn_sample/red/195_100.jpg\n",
      "./cnn_sample/cnn_sample/red/2.139_shop1_303762.jpg\n",
      "./cnn_sample/cnn_sample/red/2.jpg\n",
      "./cnn_sample/cnn_sample/red/2.tomatoes-1296x728-feature.jpg\n",
      "./cnn_sample/cnn_sample/red/20.htm_20150726103336809.jpg\n",
      "./cnn_sample/cnn_sample/red/21.image_1559007056550_750.jpg\n",
      "./cnn_sample/cnn_sample/red/210_100.jpg\n",
      "./cnn_sample/cnn_sample/red/215_100.jpg\n",
      "./cnn_sample/cnn_sample/red/22.45275_43106_3127.jpg\n",
      "./cnn_sample/cnn_sample/red/22.tomato.jpg\n",
      "./cnn_sample/cnn_sample/red/224_100.jpg\n",
      "./cnn_sample/cnn_sample/red/229_100.jpg\n",
      "./cnn_sample/cnn_sample/red/23.18_shop1_267627.jpg\n",
      "./cnn_sample/cnn_sample/red/23.skynews-tomatoes-pigment-fertility_4799387.png\n",
      "./cnn_sample/cnn_sample/red/236_100.jpg\n",
      "./cnn_sample/cnn_sample/red/24.444_shop1_179507.jpg\n",
      "./cnn_sample/cnn_sample/red/24.tomato_growing_guide.png\n",
      "./cnn_sample/cnn_sample/red/26.10000200_17-fresho-tomato-hybrid-500x500.jpg\n",
      "./cnn_sample/cnn_sample/red/26.image_readtop_2019_298347_0.jpg\n",
      "./cnn_sample/cnn_sample/red/28.GMOTomatoTA-89804445-1.jpg\n",
      "./cnn_sample/cnn_sample/red/28.Hybrid-Tomato-Seeds-Vegetables-Seeds-Manufacturer.jpg\n",
      "./cnn_sample/cnn_sample/red/29.invilbig8801234253949GDS20180621171944681LRG.jpg\n",
      "./cnn_sample/cnn_sample/red/29.Tomate-sur-fond-blanc-1.jpg\n",
      "./cnn_sample/cnn_sample/red/3.41iANYPgFUL.jpg\n",
      "./cnn_sample/cnn_sample/red/3.jpg\n",
      "./cnn_sample/cnn_sample/red/3.main_20190218155343.jpg\n",
      "./cnn_sample/cnn_sample/red/3.tomatoes-close-up.jpg\n",
      "./cnn_sample/cnn_sample/red/30.deniz-altindas-38863.jpg\n",
      "./cnn_sample/cnn_sample/red/30.NFF-health-benefits-of-Tomatoes.jpg\n",
      "./cnn_sample/cnn_sample/red/30.tomatoes-vegetables-red-food-87773.jpeg\n",
      "./cnn_sample/cnn_sample/red/31.201809131436390936_13.jpg\n",
      "./cnn_sample/cnn_sample/red/31.600_htkdrn72ib_dixie-red-tomato-group011996rtf.jpg\n",
      "./cnn_sample/cnn_sample/red/31_100.jpg\n",
      "./cnn_sample/cnn_sample/red/32.tomato-sweet-million-f1.jpg\n",
      "./cnn_sample/cnn_sample/red/33.rBVaSlqelMeAIQofAAKD1ndSt2g037.jpg\n",
      "./cnn_sample/cnn_sample/red/34.hci2018-inspiration-tomato-cultivation-worldwide.jpg\n",
      "./cnn_sample/cnn_sample/red/35.homs_11_tomato_efnpic_1024x1024.jpg\n",
      "./cnn_sample/cnn_sample/red/37.Cherry-Tomato_grande.jpg\n",
      "./cnn_sample/cnn_sample/red/38.201605110419090100_1.jpg\n",
      "./cnn_sample/cnn_sample/red/38.Tomato_plant_1.jpg\n",
      "./cnn_sample/cnn_sample/red/39.Tomato_1kg__22759.1469938670.500.750.jpg\n",
      "./cnn_sample/cnn_sample/red/4.c2d5075d047f4fa5b425e7487b87695e.jpg\n",
      "./cnn_sample/cnn_sample/red/4.jpg\n",
      "./cnn_sample/cnn_sample/red/40.0440-german-pink-tomato.jpg\n",
      "./cnn_sample/cnn_sample/red/40.731ef77698b15bada20b79f4b9b9d39a.jpg\n",
      "./cnn_sample/cnn_sample/red/41.tomato_small.png\n",
      "./cnn_sample/cnn_sample/red/42.46cef8aa0d437ae0893ebd7cf37447ec.jpg\n",
      "./cnn_sample/cnn_sample/red/42.Tomato.jpg\n",
      "./cnn_sample/cnn_sample/red/44.Growing-Tomatoes-Summers-Staple-Fruit.jpg\n",
      "./cnn_sample/cnn_sample/red/44.thumb-32761283_4ZHjCqpD_919eccf86c856e95a19a35c62b37d3a100844834_600x375.jpg\n",
      "./cnn_sample/cnn_sample/red/45.23_shop1_971483.jpg\n",
      "./cnn_sample/cnn_sample/red/46.webimage-752B36E7-93C5-43FD-8F0CDEE537810051.png\n",
      "./cnn_sample/cnn_sample/red/47.2019-04-FOOD-tomatoes-heirloom-variety-123rf-43391467-MAIN.jpg\n",
      "./cnn_sample/cnn_sample/red/48.tomatoes.jpg\n",
      "./cnn_sample/cnn_sample/red/49.Product-IMG_SaporiTomatoes-rev3.original.png\n",
      "./cnn_sample/cnn_sample/red/5.1e4e9eb4a36aaff4874434582f414eae.jpg\n",
      "./cnn_sample/cnn_sample/red/5.8325.jpg\n",
      "./cnn_sample/cnn_sample/red/5.natural-red-tomato-500x500.jpg\n",
      "./cnn_sample/cnn_sample/red/51.DPt-QG4UEAEAeVh.jpg\n",
      "./cnn_sample/cnn_sample/red/53.8560_6994_1629.jpg\n",
      "./cnn_sample/cnn_sample/red/54.tomatoes.jpg\n",
      "./cnn_sample/cnn_sample/red/54_100.jpg\n",
      "./cnn_sample/cnn_sample/red/55.2019-01-21-13-56-22.jpg\n",
      "./cnn_sample/cnn_sample/red/56.5d814b9a3b00002efad65fbc.jpeg\n",
      "./cnn_sample/cnn_sample/red/56.webimage-946FE331-C128-4F61-AC32684C11417AC3.png\n",
      "./cnn_sample/cnn_sample/red/59.7344_15922_z.jpg\n",
      "./cnn_sample/cnn_sample/red/59.basil-fresh-fruits-96616-1024x683.jpg\n",
      "./cnn_sample/cnn_sample/red/59_100.jpg\n",
      "./cnn_sample/cnn_sample/red/6.heinz-super-roma-tomato.jpg\n",
      "./cnn_sample/cnn_sample/red/61.tomato-rio-grande.jpg\n",
      "./cnn_sample/cnn_sample/red/62.258bf7abb993b8c12c1538bf54a5b92a.jpg\n",
      "./cnn_sample/cnn_sample/red/62.IMG_8093_2000x.JPG\n",
      "./cnn_sample/cnn_sample/red/63.190916143949_1_540x360.jpg\n",
      "./cnn_sample/cnn_sample/red/65.tomato.jpg\n",
      "./cnn_sample/cnn_sample/red/66.%ED%86%A0%EB%A7%88%ED%86%A0%EC%9D%98%ED%9A%A8%EB%8A%A5.jpg\n",
      "./cnn_sample/cnn_sample/red/67.334f12f3a0982533b3ad025940e14b06.jpg\n",
      "./cnn_sample/cnn_sample/red/67.tomato.jpg\n",
      "./cnn_sample/cnn_sample/red/68.L000003494617_1_640.jpg\n",
      "./cnn_sample/cnn_sample/red/7.493ss_thinkstock_rf_tomatoes_ripening_on_the_vine.jpg\n",
      "./cnn_sample/cnn_sample/red/7.Bright_red_tomato_and_cross_section02.jpg\n",
      "./cnn_sample/cnn_sample/red/7.jpg\n",
      "./cnn_sample/cnn_sample/red/70.5b55fe70c0720.jpg\n",
      "./cnn_sample/cnn_sample/red/70.VETOM35180_3.jpg\n",
      "./cnn_sample/cnn_sample/red/71.5259-tomato-varieties.jpg\n",
      "./cnn_sample/cnn_sample/red/71.87868_15882_124.jpg\n",
      "./cnn_sample/cnn_sample/red/72.10000203-4_2-fresho-tomato-local.jpg\n",
      "./cnn_sample/cnn_sample/red/75.bonnie-plants-vegetable-plants-0257-64_1000.jpg\n",
      "./cnn_sample/cnn_sample/red/77.tomatoes-in-bowl-2x.jpg\n",
      "./cnn_sample/cnn_sample/red/77.t_BrandyMasterRED.jpg\n",
      "./cnn_sample/cnn_sample/red/8.407156_570.jpg\n",
      "./cnn_sample/cnn_sample/red/8.better-boy-tomato1.jpg\n",
      "./cnn_sample/cnn_sample/red/8.jpg\n",
      "./cnn_sample/cnn_sample/red/8.Red-Tomato-tomatoes-29862224-300-300.jpg\n",
      "./cnn_sample/cnn_sample/red/81.Garden-Tomatoes-1.jpg\n",
      "./cnn_sample/cnn_sample/red/82.527crop_large.jpg\n",
      "./cnn_sample/cnn_sample/red/83.046419-0.5-1.jpg\n",
      "./cnn_sample/cnn_sample/red/84.tomato-livingstons-paragon.jpg\n",
      "./cnn_sample/cnn_sample/red/9.c_o_1550816696000_l_1.jpg\n",
      "./cnn_sample/cnn_sample/red/9.jpg\n",
      "./cnn_sample/cnn_sample/red/9.tomatoes-1296x728-feature.jpg\n",
      "./cnn_sample/cnn_sample/red/9_100.jpg\n",
      "./cnn_sample/cnn_sample/red/r2_111_100.jpg\n",
      "./cnn_sample/cnn_sample/red/r2_156_100.jpg\n",
      "./cnn_sample/cnn_sample/red/r2_207_100.jpg\n",
      "./cnn_sample/cnn_sample/red/r2_214_100.jpg\n",
      "./cnn_sample/cnn_sample/red/r2_237_100.jpg\n",
      "./cnn_sample/cnn_sample/red/r2_264_100.jpg\n",
      "./cnn_sample/cnn_sample/red/r2_268_100.jpg\n",
      "./cnn_sample/cnn_sample/red/r2_26_100.jpg\n",
      "./cnn_sample/cnn_sample/red/r2_270_100.jpg\n",
      "./cnn_sample/cnn_sample/red/r2_274_100.jpg\n",
      "./cnn_sample/cnn_sample/red/r2_275_100.jpg\n",
      "./cnn_sample/cnn_sample/red/r2_276_100.jpg\n",
      "./cnn_sample/cnn_sample/red/r2_277_100.jpg\n",
      "./cnn_sample/cnn_sample/red/r2_278_100.jpg\n",
      "./cnn_sample/cnn_sample/red/r2_285_100.jpg\n",
      "./cnn_sample/cnn_sample/red/r2_296_100.jpg\n",
      "./cnn_sample/cnn_sample/red/r2_308_100.jpg\n",
      "./cnn_sample/cnn_sample/red/r2_309_100.jpg\n",
      "./cnn_sample/cnn_sample/red/r2_310_100.jpg\n",
      "./cnn_sample/cnn_sample/red/r2_311_100.jpg\n",
      "./cnn_sample/cnn_sample/red/r2_313_100.jpg\n",
      "./cnn_sample/cnn_sample/red/r2_314_100.jpg\n",
      "./cnn_sample/cnn_sample/red/r2_315_100.jpg\n",
      "./cnn_sample/cnn_sample/red/r2_321_100.jpg\n",
      "./cnn_sample/cnn_sample/red/r2_48_100.jpg\n",
      "./cnn_sample/cnn_sample/red/r2_56_100.jpg\n",
      "./cnn_sample/cnn_sample/red/r_106_100.jpg\n",
      "./cnn_sample/cnn_sample/red/r_10_100.jpg\n",
      "./cnn_sample/cnn_sample/red/r_115_100.jpg\n",
      "./cnn_sample/cnn_sample/red/r_118_100.jpg\n",
      "./cnn_sample/cnn_sample/red/r_128_100.jpg\n",
      "./cnn_sample/cnn_sample/red/r_137_100.jpg\n",
      "./cnn_sample/cnn_sample/red/r_158_100.jpg\n",
      "./cnn_sample/cnn_sample/red/r_165_100.jpg\n",
      "./cnn_sample/cnn_sample/red/r_166_100.jpg\n",
      "./cnn_sample/cnn_sample/red/r_171_100.jpg\n",
      "./cnn_sample/cnn_sample/red/r_172_100.jpg\n",
      "./cnn_sample/cnn_sample/red/r_180_100.jpg\n",
      "./cnn_sample/cnn_sample/red/r_211_100.jpg\n",
      "./cnn_sample/cnn_sample/red/r_230_100.jpg\n",
      "./cnn_sample/cnn_sample/red/r_232_100.jpg\n",
      "./cnn_sample/cnn_sample/red/r_240_100.jpg\n",
      "./cnn_sample/cnn_sample/red/r_249_100.jpg\n",
      "./cnn_sample/cnn_sample/red/r_252_100.jpg\n",
      "./cnn_sample/cnn_sample/red/r_254_100.jpg\n"
     ]
    },
    {
     "name": "stdout",
     "output_type": "stream",
     "text": [
      "./cnn_sample/cnn_sample/red/r_255_100.jpg\n",
      "./cnn_sample/cnn_sample/red/r_284_100.jpg\n",
      "./cnn_sample/cnn_sample/red/r_293_100.jpg\n",
      "./cnn_sample/cnn_sample/red/r_322_100.jpg\n",
      "./cnn_sample/cnn_sample/red/r_40_100.jpg\n",
      "./cnn_sample/cnn_sample/red/r_49_100.jpg\n",
      "./cnn_sample/cnn_sample/red/r_75_100.jpg\n",
      "./cnn_sample/cnn_sample/red/r_82_100.jpg\n",
      "./cnn_sample/cnn_sample/red/r_84_100.jpg\n",
      "./cnn_sample/cnn_sample/red/r_85_100.jpg\n",
      "./cnn_sample/cnn_sample/red/r_8_100.jpg\n",
      "./cnn_sample/cnn_sample/red/tomato1.jpg\n",
      "./cnn_sample/cnn_sample/red/tomato10.jpg\n",
      "./cnn_sample/cnn_sample/red/tomato2.jpg\n",
      "./cnn_sample/cnn_sample/red/tomato3.jpg\n",
      "./cnn_sample/cnn_sample/red/tomato4.jpg\n",
      "./cnn_sample/cnn_sample/red/tomato5.jpg\n",
      "./cnn_sample/cnn_sample/red/tomato6.jpg\n",
      "./cnn_sample/cnn_sample/red/tomato7.jpg\n",
      "./cnn_sample/cnn_sample/red/tomato8.jpg\n",
      "./cnn_sample/cnn_sample/red/tomato9.jpg\n",
      "./cnn_sample/cnn_sample/green/1.fried-green-tomatoes-horiz-b-1800.jpg\n",
      "./cnn_sample/cnn_sample/green/1.jpg\n",
      "./cnn_sample/cnn_sample/green/1.three-unripe-tomatoes-on-a-wooden-table-B4W287.jpg\n",
      "./cnn_sample/cnn_sample/green/10.depositphotos_196990370-stock-photo-ripe-unripe-tomatoes-plant.jpg\n",
      "./cnn_sample/cnn_sample/green/10.maxresdefault.jpg\n",
      "./cnn_sample/cnn_sample/green/10.png\n",
      "./cnn_sample/cnn_sample/green/11.Green-Tomato-Ketchup-1.jpg\n",
      "./cnn_sample/cnn_sample/green/11.green-tomatoes-on-plant.jpg\n",
      "./cnn_sample/cnn_sample/green/11.maxresdefault.jpg\n",
      "./cnn_sample/cnn_sample/green/12.63227388-%EC%84%A4-%EC%9D%B5%EC%9D%80-%EB%85%B9%EC%83%89-%EC%B2%B4%EB%A6%AC-%ED%86%A0%EB%A7%88%ED%86%A0%EB%A1%9C-%EA%B0%80%EB%93%9D%ED%95%9C-%EC%83%88%EC%8B%B9.jpg\n",
      "./cnn_sample/cnn_sample/green/12.Tomato_Wagner-Blue-Green1.jpg\n",
      "./cnn_sample/cnn_sample/green/122_100.jpg\n",
      "./cnn_sample/cnn_sample/green/123_100.jpg\n",
      "./cnn_sample/cnn_sample/green/128_100.jpg\n",
      "./cnn_sample/cnn_sample/green/13.881a6f0478e2407b8e31e3f00ec64dfc.jpg\n",
      "./cnn_sample/cnn_sample/green/13.unripe-tomatoes-surrounded-by-green-leaves-H9AG5Y.jpg\n",
      "./cnn_sample/cnn_sample/green/14.2011-08-29-06.jpg\n",
      "./cnn_sample/cnn_sample/green/14.Green-Tomatoes-Ripening.jpg\n",
      "./cnn_sample/cnn_sample/green/15.201403111034093910_h.jpg\n",
      "./cnn_sample/cnn_sample/green/15.61252457-%EB%95%85%EC%97%90-%EC%A4%84%EA%B8%B0%EC%97%90-%EC%84%B1%EC%9E%A5%ED%95%98%EB%8A%94-%EB%85%B9%EC%83%89-%EC%84%A4-%EC%9D%B5%EC%9D%80-%ED%86%A0%EB%A7%88%ED%86%A0-.jpg\n",
      "./cnn_sample/cnn_sample/green/15.fried-green-tomato-BLT-I-howsweeteats.com-15.jpg\n",
      "./cnn_sample/cnn_sample/green/15.fried-green-tomatoes-horiz-b-1800.jpg\n",
      "./cnn_sample/cnn_sample/green/16.3206fdf56d6a23edeca39def2747025386a4bacd.jpeg\n",
      "./cnn_sample/cnn_sample/green/16.a86ede422ed44b9f82e7a01a41ffa0b3.jpg\n",
      "./cnn_sample/cnn_sample/green/16.unripe-tomato-stock-picture-2732617.jpg\n",
      "./cnn_sample/cnn_sample/green/17.20170705140750_nbdrpmpp.jpg\n",
      "./cnn_sample/cnn_sample/green/17.GOING_GREEN.jpg\n",
      "./cnn_sample/cnn_sample/green/17.tomato-cherokee-green_LRG.jpg\n",
      "./cnn_sample/cnn_sample/green/18.dd9559f0-82ab-4ce2-a838-cd1a9b97efbb-2060x1236.jpeg\n",
      "./cnn_sample/cnn_sample/green/18.Tomatoes-9995.jpg\n",
      "./cnn_sample/cnn_sample/green/19.Environmental2255.jpg\n",
      "./cnn_sample/cnn_sample/green/19.green_tomatoes_board-157673111-588d5ddc5f9b5874ee5c1496.jpg\n",
      "./cnn_sample/cnn_sample/green/194_100.jpg\n",
      "./cnn_sample/cnn_sample/green/2.9b4fa6e584a3454d9d8f05cce2054783.JPG\n",
      "./cnn_sample/cnn_sample/green/2.jpg\n",
      "./cnn_sample/cnn_sample/green/2.ThinkstockPhotos-186357113.jpg\n",
      "./cnn_sample/cnn_sample/green/2.unripe-tomatoes-picture_csp12752877.jpg\n",
      "./cnn_sample/cnn_sample/green/20.unripetomato_600.jpg\n",
      "./cnn_sample/cnn_sample/green/21.https%3A%2F%2Fstorage.googleapis.com%2Fgen-atmedia%2F3%2F2014%2F08%2F3206fdf56d6a23edeca39def2747025386a4bacd.jpeg\n",
      "./cnn_sample/cnn_sample/green/22.17179380-green-unripe-tomatoes-grow-in-a-greenhouse.jpg\n",
      "./cnn_sample/cnn_sample/green/22.greentomatoes.jpg\n",
      "./cnn_sample/cnn_sample/green/23.%C5%E4%B8%B6%C5%E4.JPG\n",
      "./cnn_sample/cnn_sample/green/23.2011-08-29-02.jpg\n",
      "./cnn_sample/cnn_sample/green/23.green-tomatoes_vlvx3a.jpeg\n",
      "./cnn_sample/cnn_sample/green/23.tomatoes-1671840_960_720.jpg\n",
      "./cnn_sample/cnn_sample/green/24.green-tomatoes.jpg\n",
      "./cnn_sample/cnn_sample/green/24.tomatoesmain_wide-6871cd9cde0e5d3b3bb8158e30902c2c7aa251a7-s800-c85.jpg\n",
      "./cnn_sample/cnn_sample/green/25.a86ede422ed44b9f82e7a01a41ffa0b3.jpg\n",
      "./cnn_sample/cnn_sample/green/26.62326777-%EB%85%B8%EB%9E%80%EC%83%89-%EA%BD%83%EA%B3%BC-%EC%84%A4-%EC%9D%B5%EC%9D%80-%ED%86%A0%EB%A7%88%ED%86%A0-%EA%B7%BC%EC%B2%98-%EC%97%AC%EC%9E%90%EC%9D%98-%EC%86%90.jpg\n",
      "./cnn_sample/cnn_sample/green/26.DSCF6355.JPG\n",
      "./cnn_sample/cnn_sample/green/26.https%3A%2F%2Fstorage.googleapis.com%2Fgen-atmedia%2F3%2F2014%2F08%2F3206fdf56d6a23edeca39def2747025386a4bacd.jpeg\n",
      "./cnn_sample/cnn_sample/green/26.tomatoesmain_wide-6871cd9cde0e5d3b3bb8158e30902c2c7aa251a7-s800-c85.jpg\n",
      "./cnn_sample/cnn_sample/green/27.12.jpg\n",
      "./cnn_sample/cnn_sample/green/27.DSC-4381-1537368899.jpg\n",
      "./cnn_sample/cnn_sample/green/27.green-tomato2.jpg\n",
      "./cnn_sample/cnn_sample/green/28.green-tomatoes-400x265.jpg\n",
      "./cnn_sample/cnn_sample/green/29.tomatoes-green-4393671_640.jpg\n",
      "./cnn_sample/cnn_sample/green/3.green-unripe-tomato-on-a-transparent-background-vector-22354665.jpg\n",
      "./cnn_sample/cnn_sample/green/3.IMG_5839.jpg\n",
      "./cnn_sample/cnn_sample/green/3.istock_000048931678_medium-e1461001862773.jpg\n",
      "./cnn_sample/cnn_sample/green/3.jpg\n",
      "./cnn_sample/cnn_sample/green/30.581a83ec190000a502c3092f.jpeg\n",
      "./cnn_sample/cnn_sample/green/30.green-unripe-but-mature-tomato-fruit-variety-shirley-on-the-truss-X1T8K2.jpg\n",
      "./cnn_sample/cnn_sample/green/31.74515125-%EB%86%8D%EC%9E%A5%EC%97%90%EC%84%9C-%EC%8B%A0%EC%84%A0%ED%95%9C-%EC%84%A4-%EC%9D%B5%EC%9D%80-%EC%9C%A0%EA%B8%B0%EB%86%8D-%ED%86%A0%EB%A7%88%ED%86%A0.jpg\n",
      "./cnn_sample/cnn_sample/green/31.IMG_7516.jpg\n",
      "./cnn_sample/cnn_sample/green/31.maxresdefault.jpg\n",
      "./cnn_sample/cnn_sample/green/31.Tomato-Green-Giant-IMG_4318-(1).jpg\n",
      "./cnn_sample/cnn_sample/green/32.unripe-tomatoes-on-a-twig.jpg\n",
      "./cnn_sample/cnn_sample/green/32.xkx1zbbrdzjhq6qpntbp.jpg\n",
      "./cnn_sample/cnn_sample/green/33.c0061654_5128fe8f28372.jpg\n",
      "./cnn_sample/cnn_sample/green/33.ripe-ripening-tomatoes-growing-plants-kitchen-garden-kerala-india-ripe-unripe-tomatoes-plants-113415068.jpg\n",
      "./cnn_sample/cnn_sample/green/33.tomato-3714014_960_720.jpg\n",
      "./cnn_sample/cnn_sample/green/33.wooden-bowl-containing-green-tomatoes-81988366-581932093df78cc2e830f745.jpg\n",
      "./cnn_sample/cnn_sample/green/34.66605430_2140883412700790_6562767839495980264_n.jpg\n",
      "./cnn_sample/cnn_sample/green/34.79198725-agriculture-concept-with-green-tomatoes-unripe-tomatoes-fruit.jpg\n",
      "./cnn_sample/cnn_sample/green/34.burmese-salad-green-tomatoes-1.jpg\n",
      "./cnn_sample/cnn_sample/green/36.096b481b2bb292c6845271a6af300e05_1529116136_9698.jpg\n",
      "./cnn_sample/cnn_sample/green/36.ThinkstockPhotos-186357113.jpg\n",
      "./cnn_sample/cnn_sample/green/37.depositphotos_208884808-stock-video-close-dof-numerous-beautiful-green.jpg\n",
      "./cnn_sample/cnn_sample/green/37.fried-green-tomato-recipe-e1333820865711.jpg\n",
      "./cnn_sample/cnn_sample/green/37.unripe-tomatoes-fruit-on-green-stems-stock-photography_csp44116005.jpg\n",
      "./cnn_sample/cnn_sample/green/38.5147.jpg\n",
      "./cnn_sample/cnn_sample/green/38.garden-green-tomatoes.jpg\n",
      "./cnn_sample/cnn_sample/green/38.Green_Giant-1.jpg\n",
      "./cnn_sample/cnn_sample/green/39.29766405-%EB%A7%8E%EC%9D%80-%EB%85%B9%EC%83%89-%EC%84%A4-%EC%9D%B5%EC%9D%80-%EA%B3%BC%EC%9D%BC%EA%B3%BC-%ED%86%A0%EB%A7%88%ED%86%A0%EC%9D%98-%EB%91%90-%EA%B0%80%EC%A7%80.jpg\n",
      "./cnn_sample/cnn_sample/green/39.30858716-tomato-plant-with-ripe-half-ripe-and-unripe-tomatoes.jpg\n",
      "./cnn_sample/cnn_sample/green/39.Green-Tomato-Salsa-001-800x1000.jpg\n",
      "./cnn_sample/cnn_sample/green/4.fried-green-tomatoes1.jpg\n",
      "./cnn_sample/cnn_sample/green/4.istock_000048931678_medium-e1461001862773.jpg\n",
      "./cnn_sample/cnn_sample/green/4.jpg\n",
      "./cnn_sample/cnn_sample/green/4.xkx1zbbrdzjhq6qpntbp.jpg\n",
      "./cnn_sample/cnn_sample/green/40.0000000004807_1200.png\n",
      "./cnn_sample/cnn_sample/green/41.DSC_0117.JPG\n",
      "./cnn_sample/cnn_sample/green/41.Green-Tomatoes-1024x680.jpg\n",
      "./cnn_sample/cnn_sample/green/41.stock-photo-green-unripe-tomatoes-growing-on-a-branch-8550.jpg\n",
      "./cnn_sample/cnn_sample/green/42.GreenTomato-570x464.png\n",
      "./cnn_sample/cnn_sample/green/43.green-tomatoes-stock-picture-969512.jpg\n",
      "./cnn_sample/cnn_sample/green/44.2190426-010.jpg\n",
      "./cnn_sample/cnn_sample/green/44.b0129697_4e0e731da3ff7.jpg\n",
      "./cnn_sample/cnn_sample/green/44.Green-tomatoes-unripe_3840x2160.jpg\n"
     ]
    },
    {
     "name": "stdout",
     "output_type": "stream",
     "text": [
      "./cnn_sample/cnn_sample/green/44.Tomato_Green_Doctors.jpg\n",
      "./cnn_sample/cnn_sample/green/45.green-tomatoes.jpg\n",
      "./cnn_sample/cnn_sample/green/47.20110808101109774.jpg\n",
      "./cnn_sample/cnn_sample/green/47.tomato_green.jpg\n",
      "./cnn_sample/cnn_sample/green/48.tomato-green.jpg\n",
      "./cnn_sample/cnn_sample/green/49.61oAqx3VmFL._SX466_.jpg\n",
      "./cnn_sample/cnn_sample/green/49.https%3A%2F%2Fstorage.googleapis.com%2Fgen-atmedia%2F3%2F2011%2F05%2F71cd2af1470b3af09b301b5dae320e088f4d6307.jpeg\n",
      "./cnn_sample/cnn_sample/green/5.%B4%FA%C0%CD%C0%BA_%C5%E4%B8%B6%C5%E4.JPG\n",
      "./cnn_sample/cnn_sample/green/5.jpg\n",
      "./cnn_sample/cnn_sample/green/5.recipe-20915_Large400_ID-1523352.jpg\n",
      "./cnn_sample/cnn_sample/green/50.Fried-Green-Tomato-Salad-Frydae-082319-07.jpg\n",
      "./cnn_sample/cnn_sample/green/50.unripe-tomatoes-stock-image__k18707373.jpg\n",
      "./cnn_sample/cnn_sample/green/51.stock-photo-green-unripe-tomatoes-growing-on-a-branch-8552.jpg\n",
      "./cnn_sample/cnn_sample/green/52.friedgreentomatoes1.kimsunee.jpg\n",
      "./cnn_sample/cnn_sample/green/52.green%2Btomatoe%2Bpie%2Btitle.jpg\n",
      "./cnn_sample/cnn_sample/green/52._22.jpg\n",
      "./cnn_sample/cnn_sample/green/53.unripe-tomatoes-ripening-in-a-box-picture_csp61534311.jpg\n",
      "./cnn_sample/cnn_sample/green/54.avoim5lsmmbvwf3jwm8e1jozmfp7syzlw4jycthcbb8jmuz8nxksg9zn6uc5qbm9-.jpg\n",
      "./cnn_sample/cnn_sample/green/55.500_500_productGfx_3ad4ac5f80bdd9db7069d2c8cd4a3432.jpg\n",
      "./cnn_sample/cnn_sample/green/55.unripe-tomatoes-ripening-box-green-127793898.jpg\n",
      "./cnn_sample/cnn_sample/green/56.2011-08-29-02.jpg\n",
      "./cnn_sample/cnn_sample/green/56.D1062_82_468_1200.jpg\n",
      "./cnn_sample/cnn_sample/green/56.depositphotos_214264082-stock-photo-closeup-beautiful-fresh-green-ripe.jpg\n",
      "./cnn_sample/cnn_sample/green/57.Community-of-Jesus-Green-Tomato-Cover-Image.jpg\n",
      "./cnn_sample/cnn_sample/green/57.https%3A%2F%2Fstorage.googleapis.com%2Fgen-atmedia%2F3%2F2015%2F08%2F8162d76f18d4459e45eec0871b194a369a990266.jpeg\n",
      "./cnn_sample/cnn_sample/green/58.2011-08-29-05.jpg\n",
      "./cnn_sample/cnn_sample/green/59.aa88b11fad654d90bad972ca76a307f1_780x0c.jpg\n",
      "./cnn_sample/cnn_sample/green/6.109211556-green-tomatoes-in-a-box-unripe-tomatoes-ripening-in-a-box-.jpg\n",
      "./cnn_sample/cnn_sample/green/6.221.png\n",
      "./cnn_sample/cnn_sample/green/6.exim_01-25022215.jpg\n",
      "./cnn_sample/cnn_sample/green/6.jpg\n",
      "./cnn_sample/cnn_sample/green/60.8be49c8d-50ff-425f-8676-c24464057641_1.88e26e1656c5259945c3be9f30aa3252.jpeg\n",
      "./cnn_sample/cnn_sample/green/60.green-tomatoes-horiz-b-1800.jpg\n",
      "./cnn_sample/cnn_sample/green/61.green-moldovan-tomato-400x500.jpg\n",
      "./cnn_sample/cnn_sample/green/61.IMG_1542.jpg\n",
      "./cnn_sample/cnn_sample/green/62.2011-08-29-06.jpg\n",
      "./cnn_sample/cnn_sample/green/62.thumb_l_F8393953265FB9AC7114C0350264F637.jpeg\n",
      "./cnn_sample/cnn_sample/green/63.Tomato_Green_Doctors.jpg\n",
      "./cnn_sample/cnn_sample/green/64.97440961-green-unripe-tomatoes-grow-on-the-bed-.jpg\n",
      "./cnn_sample/cnn_sample/green/65.green-tomatoes-mature-phase-solanum-lycopersicum-tomato-growing-vegetable-growing-unripe-tomatoes-hairy-stems-tomato-125225752.jpg\n",
      "./cnn_sample/cnn_sample/green/65.tomatoes-3696968_1920.jpg\n",
      "./cnn_sample/cnn_sample/green/66.thumb_l_83691334315B30D4AA80A1FD0DE8C62B.jpg\n",
      "./cnn_sample/cnn_sample/green/67.Green_tomatoes_for_chutney-1584x946-Danielle_Atkins.jpg\n",
      "./cnn_sample/cnn_sample/green/68.a10803818.jpg\n",
      "./cnn_sample/cnn_sample/green/68.D1062_82_469_1200.jpg\n",
      "./cnn_sample/cnn_sample/green/69.a10803934.jpg\n",
      "./cnn_sample/cnn_sample/green/69.green_tomato.jpg\n",
      "./cnn_sample/cnn_sample/green/69.tomato-in-greenhouse-stock-photo-3295881.jpg\n",
      "./cnn_sample/cnn_sample/green/7.312112_540.jpg\n",
      "./cnn_sample/cnn_sample/green/7.greentomatoes-1024x942.jpg\n",
      "./cnn_sample/cnn_sample/green/7.greentomatoes_l4.jpg\n",
      "./cnn_sample/cnn_sample/green/7.jpg\n",
      "./cnn_sample/cnn_sample/green/70.1[20150826053033]ejongy_edit.jpg\n",
      "./cnn_sample/cnn_sample/green/70.tomatoes-green-on-vine-stock-image_csp39185168.jpg\n",
      "./cnn_sample/cnn_sample/green/71.51fDdoJ4ynL._SX425_.jpg\n",
      "./cnn_sample/cnn_sample/green/71.57611897_169046620754939_8272011325013514127_n.jpg\n",
      "./cnn_sample/cnn_sample/green/71.green-tomato.jpg\n",
      "./cnn_sample/cnn_sample/green/72.half-green-unripe-tomatoes-isolated-260nw-1504166045.jpg\n",
      "./cnn_sample/cnn_sample/green/73.7685939-unripe-tomatoes-unripe-tomatoes.jpg\n",
      "./cnn_sample/cnn_sample/green/73.Green-Tomato-Recipe-1.jpg\n",
      "./cnn_sample/cnn_sample/green/74.depositphotos_161118362-stock-photo-green-tomatoes-unripe-tomatoes.jpg\n",
      "./cnn_sample/cnn_sample/green/75.0002afc9-500.jpg\n",
      "./cnn_sample/cnn_sample/green/75.greentoms2.jpg\n",
      "./cnn_sample/cnn_sample/green/76.2011-08-29-04.jpg\n",
      "./cnn_sample/cnn_sample/green/77.94293202-tomatoes-garden-plant-the-green-unripe-tomatoes-growing-on-a-summer-kitchen-garden-.jpg\n",
      "./cnn_sample/cnn_sample/green/8.Green-tomato.jpg\n",
      "./cnn_sample/cnn_sample/green/8.jpg\n",
      "./cnn_sample/cnn_sample/green/80.2577.img_0153.jpg\n",
      "./cnn_sample/cnn_sample/green/81.ripe-red-uripe-tomatoes-growing-garden-bed-greenhouse-green-fruits-branch-unripe-bush-150692651.jpg\n",
      "./cnn_sample/cnn_sample/green/81.vegan-fried-green-tomatoes-1-of-8.jpg\n",
      "./cnn_sample/cnn_sample/green/82.2190426-009.jpg\n",
      "./cnn_sample/cnn_sample/green/82.Pickled-green-tomatoes-DSC8546.jpg\n",
      "./cnn_sample/cnn_sample/green/83.5d03342b2100009518f23e06.jpeg\n",
      "./cnn_sample/cnn_sample/green/84.D1062_56_548_1200.jpg\n",
      "./cnn_sample/cnn_sample/green/86.stock-photo-fuyuh.jpeg\n",
      "./cnn_sample/cnn_sample/green/87.pickled-green-tomatoes2.jpg\n",
      "./cnn_sample/cnn_sample/green/89.greentomatoes.jpg\n",
      "./cnn_sample/cnn_sample/green/9.12.jpg\n",
      "./cnn_sample/cnn_sample/green/9.1466566244165.jpg\n",
      "./cnn_sample/cnn_sample/green/9.581a83ec190000a502c3092f.jpeg\n",
      "./cnn_sample/cnn_sample/green/9.jpg\n",
      "./cnn_sample/cnn_sample/green/90.depositphotos_251814098-stock-photo-green-unripe-tomatoes-in-greenhouse.jpg\n",
      "./cnn_sample/cnn_sample/green/91.11114592-fresh-unripe-tomatoes-on-a-black-background-with-water-drops.jpg\n",
      "./cnn_sample/cnn_sample/green/93.green+tomatoes+5.jpg\n",
      "./cnn_sample/cnn_sample/green/94.unripe-tomatoes-on-bush-green-600w-666008875.jpg\n",
      "./cnn_sample/cnn_sample/green/95.6194381035_87df30a1ce_z.jpg\n",
      "./cnn_sample/cnn_sample/green/97.using_green_tomatoes_fancy1.jpg\n",
      "./cnn_sample/cnn_sample/green/98.Greentomatoes-GettyImages-1069200772-5c36b268c9e77c000120d5a7.jpg\n",
      "./cnn_sample/cnn_sample/green/green1.jpg\n",
      "./cnn_sample/cnn_sample/green/green2.jpg\n",
      "./cnn_sample/cnn_sample/green/green3.png\n",
      "./cnn_sample/cnn_sample/green/green4.jpg\n",
      "./cnn_sample/cnn_sample/green/green6.jpg\n",
      "./cnn_sample/cnn_sample/green/green7.jpg\n",
      "./cnn_sample/cnn_sample/green/green8.jpg\n",
      "./cnn_sample/cnn_sample/green/green9.jpg\n",
      "./cnn_sample/cnn_sample/green/r_5_100.jpg\n",
      "./cnn_sample/cnn_sample/green/r_94_100.jpg\n"
     ]
    }
   ],
   "source": [
    "import os, re, glob\n",
    "import cv2\n",
    "import numpy as np\n",
    "from sklearn.model_selection import train_test_split\n",
    "  \n",
    "groups_folder_path = './cnn_sample/cnn_sample/'\n",
    "categories = [\"red\", \"green\"]\n",
    " \n",
    "num_classes = len(categories)\n",
    "  \n",
    "image_w = 32\n",
    "image_h = 32\n",
    "  \n",
    "X = []\n",
    "Y = []\n",
    "  \n",
    "for idex, categorie in enumerate(categories):\n",
    "    label = [0 for i in range(num_classes)]\n",
    "    label[idex] = 1\n",
    "    image_dir = groups_folder_path + categorie + '/'\n",
    "\n",
    "    for top, dir, f in os.walk(image_dir):\n",
    "\n",
    "        for filename in f:\n",
    "            print(image_dir+filename)\n",
    "            img = cv2.imread(image_dir+filename)\n",
    "            img = cv2.resize(img, None, fx=image_w/img.shape[1], fy=image_h/img.shape[0])\n",
    "            X.append(img/255)\n",
    "            Y.append(label)\n",
    "X = np.array(X)\n",
    "Y = np.array(Y)\n",
    " \n",
    "# X_train, X_test, Y_train, Y_test = train_test_split(X,Y)\n",
    "# xy = (X_train, X_test, Y_train, Y_test)\n",
    " \n",
    "# np.save(\"./img_data.npy\", xy)\n"
   ]
  },
  {
   "cell_type": "code",
   "execution_count": 40,
   "metadata": {},
   "outputs": [
    {
     "data": {
      "text/plain": [
       "array([[1, 0],\n",
       "       [1, 0],\n",
       "       [1, 0],\n",
       "       [1, 0],\n",
       "       [1, 0],\n",
       "       [1, 0],\n",
       "       [1, 0],\n",
       "       [1, 0],\n",
       "       [1, 0],\n",
       "       [1, 0],\n",
       "       [1, 0],\n",
       "       [1, 0],\n",
       "       [1, 0],\n",
       "       [1, 0],\n",
       "       [1, 0],\n",
       "       [1, 0],\n",
       "       [1, 0],\n",
       "       [1, 0],\n",
       "       [1, 0],\n",
       "       [1, 0],\n",
       "       [1, 0],\n",
       "       [1, 0],\n",
       "       [1, 0],\n",
       "       [1, 0],\n",
       "       [1, 0],\n",
       "       [1, 0],\n",
       "       [1, 0],\n",
       "       [1, 0],\n",
       "       [1, 0],\n",
       "       [1, 0],\n",
       "       [1, 0],\n",
       "       [1, 0],\n",
       "       [1, 0],\n",
       "       [1, 0],\n",
       "       [1, 0],\n",
       "       [1, 0],\n",
       "       [1, 0],\n",
       "       [1, 0],\n",
       "       [1, 0],\n",
       "       [1, 0],\n",
       "       [1, 0],\n",
       "       [1, 0],\n",
       "       [1, 0],\n",
       "       [1, 0],\n",
       "       [1, 0],\n",
       "       [1, 0],\n",
       "       [1, 0],\n",
       "       [1, 0],\n",
       "       [1, 0],\n",
       "       [1, 0],\n",
       "       [1, 0],\n",
       "       [1, 0],\n",
       "       [1, 0],\n",
       "       [1, 0],\n",
       "       [1, 0],\n",
       "       [1, 0],\n",
       "       [1, 0],\n",
       "       [1, 0],\n",
       "       [1, 0],\n",
       "       [1, 0],\n",
       "       [1, 0],\n",
       "       [1, 0],\n",
       "       [1, 0],\n",
       "       [1, 0],\n",
       "       [1, 0],\n",
       "       [1, 0],\n",
       "       [1, 0],\n",
       "       [1, 0],\n",
       "       [1, 0],\n",
       "       [1, 0],\n",
       "       [1, 0],\n",
       "       [1, 0],\n",
       "       [1, 0],\n",
       "       [1, 0],\n",
       "       [1, 0],\n",
       "       [1, 0],\n",
       "       [1, 0],\n",
       "       [1, 0],\n",
       "       [1, 0],\n",
       "       [1, 0],\n",
       "       [1, 0],\n",
       "       [1, 0],\n",
       "       [1, 0],\n",
       "       [1, 0],\n",
       "       [1, 0],\n",
       "       [1, 0],\n",
       "       [1, 0],\n",
       "       [1, 0],\n",
       "       [1, 0],\n",
       "       [1, 0],\n",
       "       [1, 0],\n",
       "       [1, 0],\n",
       "       [1, 0],\n",
       "       [1, 0],\n",
       "       [1, 0],\n",
       "       [1, 0],\n",
       "       [1, 0],\n",
       "       [1, 0],\n",
       "       [1, 0],\n",
       "       [1, 0],\n",
       "       [1, 0],\n",
       "       [1, 0],\n",
       "       [1, 0],\n",
       "       [1, 0],\n",
       "       [1, 0],\n",
       "       [1, 0],\n",
       "       [1, 0],\n",
       "       [1, 0],\n",
       "       [1, 0],\n",
       "       [1, 0],\n",
       "       [1, 0],\n",
       "       [1, 0],\n",
       "       [1, 0],\n",
       "       [1, 0],\n",
       "       [1, 0],\n",
       "       [1, 0],\n",
       "       [1, 0],\n",
       "       [1, 0],\n",
       "       [1, 0],\n",
       "       [1, 0],\n",
       "       [1, 0],\n",
       "       [1, 0],\n",
       "       [1, 0],\n",
       "       [1, 0],\n",
       "       [1, 0],\n",
       "       [1, 0],\n",
       "       [1, 0],\n",
       "       [1, 0],\n",
       "       [1, 0],\n",
       "       [1, 0],\n",
       "       [1, 0],\n",
       "       [1, 0],\n",
       "       [1, 0],\n",
       "       [1, 0],\n",
       "       [1, 0],\n",
       "       [1, 0],\n",
       "       [1, 0],\n",
       "       [1, 0],\n",
       "       [1, 0],\n",
       "       [1, 0],\n",
       "       [1, 0],\n",
       "       [1, 0],\n",
       "       [1, 0],\n",
       "       [1, 0],\n",
       "       [1, 0],\n",
       "       [1, 0],\n",
       "       [1, 0],\n",
       "       [1, 0],\n",
       "       [1, 0],\n",
       "       [1, 0],\n",
       "       [1, 0],\n",
       "       [1, 0],\n",
       "       [1, 0],\n",
       "       [1, 0],\n",
       "       [1, 0],\n",
       "       [1, 0],\n",
       "       [1, 0],\n",
       "       [1, 0],\n",
       "       [1, 0],\n",
       "       [1, 0],\n",
       "       [1, 0],\n",
       "       [1, 0],\n",
       "       [1, 0],\n",
       "       [1, 0],\n",
       "       [1, 0],\n",
       "       [1, 0],\n",
       "       [1, 0],\n",
       "       [1, 0],\n",
       "       [1, 0],\n",
       "       [1, 0],\n",
       "       [1, 0],\n",
       "       [1, 0],\n",
       "       [1, 0],\n",
       "       [1, 0],\n",
       "       [1, 0],\n",
       "       [1, 0],\n",
       "       [1, 0],\n",
       "       [1, 0],\n",
       "       [1, 0],\n",
       "       [1, 0],\n",
       "       [1, 0],\n",
       "       [1, 0],\n",
       "       [1, 0],\n",
       "       [0, 1],\n",
       "       [0, 1],\n",
       "       [0, 1],\n",
       "       [0, 1],\n",
       "       [0, 1],\n",
       "       [0, 1],\n",
       "       [0, 1],\n",
       "       [0, 1],\n",
       "       [0, 1],\n",
       "       [0, 1],\n",
       "       [0, 1],\n",
       "       [0, 1],\n",
       "       [0, 1],\n",
       "       [0, 1],\n",
       "       [0, 1],\n",
       "       [0, 1],\n",
       "       [0, 1],\n",
       "       [0, 1],\n",
       "       [0, 1],\n",
       "       [0, 1],\n",
       "       [0, 1],\n",
       "       [0, 1],\n",
       "       [0, 1],\n",
       "       [0, 1],\n",
       "       [0, 1],\n",
       "       [0, 1],\n",
       "       [0, 1],\n",
       "       [0, 1],\n",
       "       [0, 1],\n",
       "       [0, 1],\n",
       "       [0, 1],\n",
       "       [0, 1],\n",
       "       [0, 1],\n",
       "       [0, 1],\n",
       "       [0, 1],\n",
       "       [0, 1],\n",
       "       [0, 1],\n",
       "       [0, 1],\n",
       "       [0, 1],\n",
       "       [0, 1],\n",
       "       [0, 1],\n",
       "       [0, 1],\n",
       "       [0, 1],\n",
       "       [0, 1],\n",
       "       [0, 1],\n",
       "       [0, 1],\n",
       "       [0, 1],\n",
       "       [0, 1],\n",
       "       [0, 1],\n",
       "       [0, 1],\n",
       "       [0, 1],\n",
       "       [0, 1],\n",
       "       [0, 1],\n",
       "       [0, 1],\n",
       "       [0, 1],\n",
       "       [0, 1],\n",
       "       [0, 1],\n",
       "       [0, 1],\n",
       "       [0, 1],\n",
       "       [0, 1],\n",
       "       [0, 1],\n",
       "       [0, 1],\n",
       "       [0, 1],\n",
       "       [0, 1],\n",
       "       [0, 1],\n",
       "       [0, 1],\n",
       "       [0, 1],\n",
       "       [0, 1],\n",
       "       [0, 1],\n",
       "       [0, 1],\n",
       "       [0, 1],\n",
       "       [0, 1],\n",
       "       [0, 1],\n",
       "       [0, 1],\n",
       "       [0, 1],\n",
       "       [0, 1],\n",
       "       [0, 1],\n",
       "       [0, 1],\n",
       "       [0, 1],\n",
       "       [0, 1],\n",
       "       [0, 1],\n",
       "       [0, 1],\n",
       "       [0, 1],\n",
       "       [0, 1],\n",
       "       [0, 1],\n",
       "       [0, 1],\n",
       "       [0, 1],\n",
       "       [0, 1],\n",
       "       [0, 1],\n",
       "       [0, 1],\n",
       "       [0, 1],\n",
       "       [0, 1],\n",
       "       [0, 1],\n",
       "       [0, 1],\n",
       "       [0, 1],\n",
       "       [0, 1],\n",
       "       [0, 1],\n",
       "       [0, 1],\n",
       "       [0, 1],\n",
       "       [0, 1],\n",
       "       [0, 1],\n",
       "       [0, 1],\n",
       "       [0, 1],\n",
       "       [0, 1],\n",
       "       [0, 1],\n",
       "       [0, 1],\n",
       "       [0, 1],\n",
       "       [0, 1],\n",
       "       [0, 1],\n",
       "       [0, 1],\n",
       "       [0, 1],\n",
       "       [0, 1],\n",
       "       [0, 1],\n",
       "       [0, 1],\n",
       "       [0, 1],\n",
       "       [0, 1],\n",
       "       [0, 1],\n",
       "       [0, 1],\n",
       "       [0, 1],\n",
       "       [0, 1],\n",
       "       [0, 1],\n",
       "       [0, 1],\n",
       "       [0, 1],\n",
       "       [0, 1],\n",
       "       [0, 1],\n",
       "       [0, 1],\n",
       "       [0, 1],\n",
       "       [0, 1],\n",
       "       [0, 1],\n",
       "       [0, 1],\n",
       "       [0, 1],\n",
       "       [0, 1],\n",
       "       [0, 1],\n",
       "       [0, 1],\n",
       "       [0, 1],\n",
       "       [0, 1],\n",
       "       [0, 1],\n",
       "       [0, 1],\n",
       "       [0, 1],\n",
       "       [0, 1],\n",
       "       [0, 1],\n",
       "       [0, 1],\n",
       "       [0, 1],\n",
       "       [0, 1],\n",
       "       [0, 1],\n",
       "       [0, 1],\n",
       "       [0, 1],\n",
       "       [0, 1],\n",
       "       [0, 1],\n",
       "       [0, 1],\n",
       "       [0, 1],\n",
       "       [0, 1],\n",
       "       [0, 1],\n",
       "       [0, 1],\n",
       "       [0, 1],\n",
       "       [0, 1],\n",
       "       [0, 1],\n",
       "       [0, 1],\n",
       "       [0, 1],\n",
       "       [0, 1],\n",
       "       [0, 1],\n",
       "       [0, 1],\n",
       "       [0, 1],\n",
       "       [0, 1],\n",
       "       [0, 1],\n",
       "       [0, 1],\n",
       "       [0, 1],\n",
       "       [0, 1],\n",
       "       [0, 1],\n",
       "       [0, 1],\n",
       "       [0, 1],\n",
       "       [0, 1],\n",
       "       [0, 1],\n",
       "       [0, 1]])"
      ]
     },
     "execution_count": 40,
     "metadata": {},
     "output_type": "execute_result"
    }
   ],
   "source": [
    "Y"
   ]
  },
  {
   "cell_type": "code",
   "execution_count": 97,
   "metadata": {
    "colab": {},
    "colab_type": "code",
    "id": "wIiq1GXDIY4E",
    "outputId": "13a0f6d1-caa3-4fcd-a74c-dc756db23b00"
   },
   "outputs": [],
   "source": [
    "import keras\n",
    "import tensorflow as tf"
   ]
  },
  {
   "cell_type": "code",
   "execution_count": 99,
   "metadata": {
    "colab": {},
    "colab_type": "code",
    "id": "b2oXtl2iIY4M"
   },
   "outputs": [],
   "source": [
    "num_classes = 2"
   ]
  },
  {
   "cell_type": "code",
   "execution_count": 100,
   "metadata": {},
   "outputs": [],
   "source": [
    "label_names = [\"red\", \"green\"]"
   ]
  },
  {
   "cell_type": "code",
   "execution_count": 101,
   "metadata": {
    "colab": {},
    "colab_type": "code",
    "id": "H7EYAyOqbT0r"
   },
   "outputs": [],
   "source": [
    "X_train, X_test, Y_train, Y_test = train_test_split(X,Y)"
   ]
  },
  {
   "cell_type": "code",
   "execution_count": 102,
   "metadata": {
    "colab": {},
    "colab_type": "code",
    "id": "jEAp1OPDIY4T",
    "outputId": "64f036f9-3b56-48e8-9004-a2b1adc8c70d"
   },
   "outputs": [
    {
     "name": "stdout",
     "output_type": "stream",
     "text": [
      "(285, 32, 32, 3)\n",
      "(96, 32, 32, 3)\n",
      "(285, 2)\n",
      "(96, 2)\n"
     ]
    }
   ],
   "source": [
    "print(X_train.shape)\n",
    "print(X_test.shape)\n",
    "print(Y_train.shape)\n",
    "print(Y_test.shape)"
   ]
  },
  {
   "cell_type": "code",
   "execution_count": 104,
   "metadata": {
    "colab": {},
    "colab_type": "code",
    "id": "pw7Rs_HFIY4Y"
   },
   "outputs": [],
   "source": [
    "X_train = X_train.reshape(285, 32,32,3).astype('float32')\n",
    "X_test = X_test.reshape(96, 32,32,3).astype('float32')"
   ]
  },
  {
   "cell_type": "code",
   "execution_count": 105,
   "metadata": {
    "colab": {},
    "colab_type": "code",
    "id": "_5ri8ZxUIY4d",
    "outputId": "31832d83-3ed2-496f-a726-4cae30a65a3f"
   },
   "outputs": [
    {
     "data": {
      "text/plain": [
       "array([[1, 0],\n",
       "       [0, 1],\n",
       "       [1, 0],\n",
       "       [1, 0],\n",
       "       [0, 1],\n",
       "       [1, 0],\n",
       "       [0, 1],\n",
       "       [1, 0],\n",
       "       [1, 0],\n",
       "       [1, 0],\n",
       "       [0, 1],\n",
       "       [0, 1],\n",
       "       [1, 0],\n",
       "       [0, 1],\n",
       "       [0, 1],\n",
       "       [0, 1],\n",
       "       [1, 0],\n",
       "       [0, 1],\n",
       "       [0, 1],\n",
       "       [0, 1],\n",
       "       [1, 0],\n",
       "       [0, 1],\n",
       "       [1, 0],\n",
       "       [1, 0],\n",
       "       [1, 0],\n",
       "       [0, 1],\n",
       "       [1, 0],\n",
       "       [1, 0],\n",
       "       [1, 0],\n",
       "       [0, 1],\n",
       "       [1, 0],\n",
       "       [0, 1],\n",
       "       [1, 0],\n",
       "       [0, 1],\n",
       "       [1, 0],\n",
       "       [0, 1],\n",
       "       [0, 1],\n",
       "       [0, 1],\n",
       "       [0, 1],\n",
       "       [1, 0],\n",
       "       [1, 0],\n",
       "       [1, 0],\n",
       "       [0, 1],\n",
       "       [0, 1],\n",
       "       [1, 0],\n",
       "       [0, 1],\n",
       "       [0, 1],\n",
       "       [0, 1],\n",
       "       [1, 0],\n",
       "       [0, 1],\n",
       "       [0, 1],\n",
       "       [0, 1],\n",
       "       [1, 0],\n",
       "       [0, 1],\n",
       "       [1, 0],\n",
       "       [1, 0],\n",
       "       [0, 1],\n",
       "       [0, 1],\n",
       "       [1, 0],\n",
       "       [1, 0],\n",
       "       [0, 1],\n",
       "       [1, 0],\n",
       "       [1, 0],\n",
       "       [0, 1],\n",
       "       [0, 1],\n",
       "       [0, 1],\n",
       "       [1, 0],\n",
       "       [0, 1],\n",
       "       [0, 1],\n",
       "       [0, 1],\n",
       "       [0, 1],\n",
       "       [0, 1],\n",
       "       [1, 0],\n",
       "       [1, 0],\n",
       "       [1, 0],\n",
       "       [0, 1],\n",
       "       [0, 1],\n",
       "       [0, 1],\n",
       "       [0, 1],\n",
       "       [1, 0],\n",
       "       [1, 0],\n",
       "       [1, 0],\n",
       "       [1, 0],\n",
       "       [1, 0],\n",
       "       [1, 0],\n",
       "       [0, 1],\n",
       "       [1, 0],\n",
       "       [0, 1],\n",
       "       [1, 0],\n",
       "       [1, 0],\n",
       "       [0, 1],\n",
       "       [1, 0],\n",
       "       [0, 1],\n",
       "       [0, 1],\n",
       "       [0, 1],\n",
       "       [1, 0],\n",
       "       [1, 0],\n",
       "       [1, 0],\n",
       "       [1, 0],\n",
       "       [1, 0],\n",
       "       [0, 1],\n",
       "       [1, 0],\n",
       "       [1, 0],\n",
       "       [1, 0],\n",
       "       [0, 1],\n",
       "       [1, 0],\n",
       "       [0, 1],\n",
       "       [1, 0],\n",
       "       [0, 1],\n",
       "       [1, 0],\n",
       "       [1, 0],\n",
       "       [1, 0],\n",
       "       [1, 0],\n",
       "       [0, 1],\n",
       "       [1, 0],\n",
       "       [1, 0],\n",
       "       [1, 0],\n",
       "       [1, 0],\n",
       "       [0, 1],\n",
       "       [1, 0],\n",
       "       [0, 1],\n",
       "       [0, 1],\n",
       "       [1, 0],\n",
       "       [0, 1],\n",
       "       [0, 1],\n",
       "       [1, 0],\n",
       "       [1, 0],\n",
       "       [0, 1],\n",
       "       [1, 0],\n",
       "       [1, 0],\n",
       "       [0, 1],\n",
       "       [1, 0],\n",
       "       [1, 0],\n",
       "       [0, 1],\n",
       "       [0, 1],\n",
       "       [0, 1],\n",
       "       [1, 0],\n",
       "       [1, 0],\n",
       "       [0, 1],\n",
       "       [1, 0],\n",
       "       [1, 0],\n",
       "       [1, 0],\n",
       "       [1, 0],\n",
       "       [1, 0],\n",
       "       [0, 1],\n",
       "       [1, 0],\n",
       "       [1, 0],\n",
       "       [0, 1],\n",
       "       [0, 1],\n",
       "       [0, 1],\n",
       "       [1, 0],\n",
       "       [0, 1],\n",
       "       [0, 1],\n",
       "       [1, 0],\n",
       "       [1, 0],\n",
       "       [0, 1],\n",
       "       [1, 0],\n",
       "       [1, 0],\n",
       "       [0, 1],\n",
       "       [1, 0],\n",
       "       [1, 0],\n",
       "       [0, 1],\n",
       "       [0, 1],\n",
       "       [0, 1],\n",
       "       [0, 1],\n",
       "       [1, 0],\n",
       "       [1, 0],\n",
       "       [0, 1],\n",
       "       [0, 1],\n",
       "       [0, 1],\n",
       "       [0, 1],\n",
       "       [0, 1],\n",
       "       [0, 1],\n",
       "       [0, 1],\n",
       "       [1, 0],\n",
       "       [0, 1],\n",
       "       [1, 0],\n",
       "       [1, 0],\n",
       "       [0, 1],\n",
       "       [0, 1],\n",
       "       [0, 1],\n",
       "       [0, 1],\n",
       "       [1, 0],\n",
       "       [1, 0],\n",
       "       [0, 1],\n",
       "       [1, 0],\n",
       "       [1, 0],\n",
       "       [1, 0],\n",
       "       [0, 1],\n",
       "       [1, 0],\n",
       "       [0, 1],\n",
       "       [0, 1],\n",
       "       [1, 0],\n",
       "       [0, 1],\n",
       "       [0, 1],\n",
       "       [1, 0],\n",
       "       [0, 1],\n",
       "       [0, 1],\n",
       "       [0, 1],\n",
       "       [0, 1],\n",
       "       [0, 1],\n",
       "       [1, 0],\n",
       "       [1, 0],\n",
       "       [1, 0],\n",
       "       [1, 0],\n",
       "       [0, 1],\n",
       "       [0, 1],\n",
       "       [1, 0],\n",
       "       [1, 0],\n",
       "       [0, 1],\n",
       "       [1, 0],\n",
       "       [0, 1],\n",
       "       [1, 0],\n",
       "       [0, 1],\n",
       "       [0, 1],\n",
       "       [0, 1],\n",
       "       [1, 0],\n",
       "       [0, 1],\n",
       "       [1, 0],\n",
       "       [0, 1],\n",
       "       [1, 0],\n",
       "       [0, 1],\n",
       "       [1, 0],\n",
       "       [0, 1],\n",
       "       [1, 0],\n",
       "       [1, 0],\n",
       "       [0, 1],\n",
       "       [0, 1],\n",
       "       [0, 1],\n",
       "       [0, 1],\n",
       "       [1, 0],\n",
       "       [0, 1],\n",
       "       [1, 0],\n",
       "       [0, 1],\n",
       "       [1, 0],\n",
       "       [0, 1],\n",
       "       [1, 0],\n",
       "       [1, 0],\n",
       "       [0, 1],\n",
       "       [1, 0],\n",
       "       [0, 1],\n",
       "       [0, 1],\n",
       "       [0, 1],\n",
       "       [0, 1],\n",
       "       [0, 1],\n",
       "       [1, 0],\n",
       "       [1, 0],\n",
       "       [1, 0],\n",
       "       [0, 1],\n",
       "       [0, 1],\n",
       "       [1, 0],\n",
       "       [0, 1],\n",
       "       [0, 1],\n",
       "       [0, 1],\n",
       "       [1, 0],\n",
       "       [1, 0],\n",
       "       [0, 1],\n",
       "       [0, 1],\n",
       "       [1, 0],\n",
       "       [1, 0],\n",
       "       [0, 1],\n",
       "       [0, 1],\n",
       "       [0, 1],\n",
       "       [1, 0],\n",
       "       [0, 1],\n",
       "       [1, 0],\n",
       "       [0, 1],\n",
       "       [0, 1],\n",
       "       [1, 0],\n",
       "       [0, 1],\n",
       "       [1, 0],\n",
       "       [0, 1],\n",
       "       [1, 0],\n",
       "       [0, 1],\n",
       "       [0, 1],\n",
       "       [0, 1],\n",
       "       [0, 1],\n",
       "       [1, 0],\n",
       "       [0, 1],\n",
       "       [0, 1],\n",
       "       [1, 0],\n",
       "       [0, 1],\n",
       "       [0, 1],\n",
       "       [1, 0],\n",
       "       [0, 1]])"
      ]
     },
     "execution_count": 105,
     "metadata": {},
     "output_type": "execute_result"
    }
   ],
   "source": [
    "Y_train"
   ]
  },
  {
   "cell_type": "code",
   "execution_count": 106,
   "metadata": {
    "colab": {},
    "colab_type": "code",
    "id": "5zzQM-F0IY4i",
    "outputId": "8e49fe0e-3c8e-4a54-8d32-a18c0f5f1f34",
    "scrolled": true
   },
   "outputs": [
    {
     "name": "stdout",
     "output_type": "stream",
     "text": [
      "label=[1 0 1 1 0 1 0 1 1 1]\n"
     ]
    },
    {
     "data": {
      "image/png": "[encoded data removed]",
      "text/plain": [
       "<Figure size 720x360 with 10 Axes>"
      ]
     },
     "metadata": {
      "needs_background": "light"
     },
     "output_type": "display_data"
    }
   ],
   "source": [
    "print('label={}'.format(Y_train[:10,0]))\n",
    "fig, ax = plt.subplots(2,5,figsize=(10,5))\n",
    "\n",
    "for i in range(5):\n",
    "    ax[0][i].imshow(np.reshape(X_train[i], (32,32,3)))\n",
    "    ax[1][i].imshow(np.reshape(X_train[i+5], (32,32,3)))"
   ]
  },
  {
   "cell_type": "code",
   "execution_count": 107,
   "metadata": {
    "colab": {},
    "colab_type": "code",
    "id": "fdWHl3a-IY4l"
   },
   "outputs": [],
   "source": [
    "X = tf.placeholder(tf.float32, [None, 32, 32, 3])  \n",
    "Y = tf.placeholder(tf.float32, [None,2])\n",
    "keep_prob = tf.placeholder(tf.float32)"
   ]
  },
  {
   "cell_type": "code",
   "execution_count": 108,
   "metadata": {
    "colab": {},
    "colab_type": "code",
    "id": "j59eii7OIY4o",
    "outputId": "0c197a6e-3807-4f34-f0aa-5aa06fb45065"
   },
   "outputs": [
    {
     "name": "stdout",
     "output_type": "stream",
     "text": [
      "Tensor(\"dropout_3/mul_1:0\", shape=(?, 16, 16, 32), dtype=float32)\n"
     ]
    }
   ],
   "source": [
    "W1 = tf.Variable(tf.random_normal([3,3,3,32], stddev=0.01))\n",
    "L1 = tf.nn.conv2d(X, W1, strides=[1,1,1,1], padding='SAME')\n",
    "L1 = tf.nn.relu(L1)\n",
    "L1 = tf.nn.max_pool(L1, ksize=[1,2,2,1], strides=[1,2,2,1], padding='SAME')\n",
    "L1 = tf.nn.dropout(L1, keep_prob)\n",
    "print(L1)"
   ]
  },
  {
   "cell_type": "code",
   "execution_count": 109,
   "metadata": {
    "colab": {},
    "colab_type": "code",
    "id": "klIdIWFfIY4v",
    "outputId": "be2930ad-d275-4fba-9248-648a40164fd1"
   },
   "outputs": [
    {
     "name": "stdout",
     "output_type": "stream",
     "text": [
      "Tensor(\"dropout_4/mul_1:0\", shape=(?, 8, 8, 64), dtype=float32)\n"
     ]
    }
   ],
   "source": [
    "W2 = tf.Variable(tf.random_normal([3,3,32,64], stddev=0.01))\n",
    "L2 = tf.nn.conv2d(L1, W2, strides=[1,1,1,1], padding='SAME')\n",
    "L2 = tf.nn.relu(L2)\n",
    "L2 = tf.nn.max_pool(L2, ksize=[1,2,2,1], strides=[1,2,2,1], padding='SAME')\n",
    "L2 = tf.nn.dropout(L2, keep_prob)\n",
    "\n",
    "print(L2)"
   ]
  },
  {
   "cell_type": "code",
   "execution_count": 110,
   "metadata": {
    "colab": {},
    "colab_type": "code",
    "id": "eC98UFF0IY40",
    "outputId": "8732f2e4-a5c1-4296-9255-bd7a66c371f3"
   },
   "outputs": [
    {
     "name": "stdout",
     "output_type": "stream",
     "text": [
      "Tensor(\"dropout_5/mul_1:0\", shape=(?, 4, 4, 128), dtype=float32)\n"
     ]
    }
   ],
   "source": [
    "W3 = tf.Variable(tf.random_normal([3,3,64, 128], stddev=0.01))\n",
    "L3 = tf.nn.conv2d(L2, W3, strides=[1,1,1,1], padding='SAME')\n",
    "L3 = tf.nn.relu(L3)\n",
    "L3 = tf.nn.max_pool(L3, ksize=[1,2,2,1], strides=[1,2,2,1], padding='SAME')\n",
    "L3 = tf.nn.dropout(L3, keep_prob)\n",
    "\n",
    "print(L3)"
   ]
  },
  {
   "cell_type": "code",
   "execution_count": 111,
   "metadata": {
    "colab": {},
    "colab_type": "code",
    "id": "dgYv9J7XIY44",
    "outputId": "8a72968f-19f8-4238-d9d4-32be092ba26c"
   },
   "outputs": [
    {
     "name": "stdout",
     "output_type": "stream",
     "text": [
      "Tensor(\"Relu_7:0\", shape=(?, 256), dtype=float32)\n"
     ]
    }
   ],
   "source": [
    "W4 = tf.Variable(tf.random_normal([4 * 4 * 128, 256], stddev=0.01))\n",
    "L4 = tf.reshape(L3, [-1, 4 *4 * 128])\n",
    "L4 = tf.matmul(L4, W4)\n",
    "L4 = tf.nn.relu(L4)\n",
    "print(L4)"
   ]
  },
  {
   "cell_type": "code",
   "execution_count": 112,
   "metadata": {
    "colab": {},
    "colab_type": "code",
    "id": "Pnbkl4l4IY48",
    "outputId": "2370aefd-beb6-4b78-f1ce-c0fbe898a282"
   },
   "outputs": [
    {
     "data": {
      "text/plain": [
       "<tf.Tensor 'MatMul_3:0' shape=(?, 2) dtype=float32>"
      ]
     },
     "execution_count": 112,
     "metadata": {},
     "output_type": "execute_result"
    }
   ],
   "source": [
    "W5 = tf.Variable(tf.random_normal([256,2], stddev=0.01))\n",
    "model = tf.matmul(L4, W5)\n",
    "model"
   ]
  },
  {
   "cell_type": "code",
   "execution_count": 113,
   "metadata": {
    "colab": {},
    "colab_type": "code",
    "id": "4KltEZUwIY5A"
   },
   "outputs": [],
   "source": [
    "cost = tf.reduce_mean(tf.nn.softmax_cross_entropy_with_logits_v2(logits=model, labels=Y))\n",
    "optimizer = tf.train.AdamOptimizer(0.001).minimize(cost)"
   ]
  },
  {
   "cell_type": "code",
   "execution_count": 114,
   "metadata": {
    "colab": {},
    "colab_type": "code",
    "id": "iMPb_vvoIY5H"
   },
   "outputs": [],
   "source": [
    "init = tf.global_variables_initializer()\n",
    "sess = tf.Session()\n",
    "sess.run(init)"
   ]
  },
  {
   "cell_type": "code",
   "execution_count": 115,
   "metadata": {
    "colab": {},
    "colab_type": "code",
    "id": "ziM_qtlXIY5N"
   },
   "outputs": [],
   "source": [
    "batch_size = 100\n",
    "total_batch = int(X_train.shape[0]/ batch_size)\n",
    "total_batch\n",
    "epochs = 20"
   ]
  },
  {
   "cell_type": "code",
   "execution_count": 116,
   "metadata": {
    "colab": {},
    "colab_type": "code",
    "id": "4Rm_Ig9CIY5R"
   },
   "outputs": [],
   "source": [
    "def next_batch(start, num, data, labels):\n",
    "    data_X = data[start:start+num]\n",
    "    data_y = labels[start:start+num]\n",
    "    return np.asarray(data_X), np.asarray(data_y)"
   ]
  },
  {
   "cell_type": "code",
   "execution_count": 117,
   "metadata": {
    "colab": {},
    "colab_type": "code",
    "id": "UpC0SVEMIY5U",
    "outputId": "990346f0-a332-4a3e-d71a-e49cceffbd86"
   },
   "outputs": [
    {
     "name": "stdout",
     "output_type": "stream",
     "text": [
      "(285, 32, 32, 3) (285, 2)\n",
      "(10, 32, 32, 3) (10, 2)\n"
     ]
    }
   ],
   "source": [
    "print(X_train.shape, Y_train.shape)\n",
    "batch_X, batch_y = next_batch(0,10, X_train, Y_train)\n",
    "print(batch_X.shape, batch_y.shape)"
   ]
  },
  {
   "cell_type": "code",
   "execution_count": 118,
   "metadata": {
    "colab": {},
    "colab_type": "code",
    "id": "-trefFJqIY5X",
    "outputId": "4ea0da6c-ed43-4e34-ff14-c3d95e78718c"
   },
   "outputs": [
    {
     "name": "stdout",
     "output_type": "stream",
     "text": [
      "전체 입력 데이터 : (285, 32, 32, 3)\n",
      "전체 출력 데이터 : (285, 2)\n",
      "data_step = 0, Avg. cost = 0.693\n",
      "data_step = 1, Avg. cost = 0.693\n",
      "epoch: 0 total.cost = 1.386\n",
      "data_step = 0, Avg. cost = 0.693\n",
      "data_step = 1, Avg. cost = 0.691\n",
      "epoch: 1 total.cost = 1.384\n",
      "data_step = 0, Avg. cost = 0.687\n",
      "data_step = 1, Avg. cost = 0.676\n",
      "epoch: 2 total.cost = 1.363\n",
      "data_step = 0, Avg. cost = 0.658\n",
      "data_step = 1, Avg. cost = 0.616\n",
      "epoch: 3 total.cost = 1.273\n",
      "data_step = 0, Avg. cost = 0.569\n",
      "data_step = 1, Avg. cost = 0.474\n",
      "epoch: 4 total.cost = 1.043\n",
      "data_step = 0, Avg. cost = 0.425\n",
      "data_step = 1, Avg. cost = 0.402\n",
      "epoch: 5 total.cost = 0.826\n",
      "data_step = 0, Avg. cost = 0.340\n",
      "data_step = 1, Avg. cost = 0.227\n",
      "epoch: 6 total.cost = 0.567\n",
      "data_step = 0, Avg. cost = 0.217\n",
      "data_step = 1, Avg. cost = 0.208\n",
      "epoch: 7 total.cost = 0.425\n",
      "data_step = 0, Avg. cost = 0.302\n",
      "data_step = 1, Avg. cost = 0.199\n",
      "epoch: 8 total.cost = 0.501\n",
      "data_step = 0, Avg. cost = 0.156\n",
      "data_step = 1, Avg. cost = 0.162\n",
      "epoch: 9 total.cost = 0.318\n",
      "data_step = 0, Avg. cost = 0.272\n",
      "data_step = 1, Avg. cost = 0.174\n",
      "epoch: 10 total.cost = 0.446\n",
      "data_step = 0, Avg. cost = 0.134\n",
      "data_step = 1, Avg. cost = 0.202\n",
      "epoch: 11 total.cost = 0.336\n",
      "data_step = 0, Avg. cost = 0.175\n",
      "data_step = 1, Avg. cost = 0.161\n",
      "epoch: 12 total.cost = 0.336\n",
      "data_step = 0, Avg. cost = 0.160\n",
      "data_step = 1, Avg. cost = 0.175\n",
      "epoch: 13 total.cost = 0.334\n",
      "data_step = 0, Avg. cost = 0.114\n",
      "data_step = 1, Avg. cost = 0.177\n",
      "epoch: 14 total.cost = 0.291\n",
      "data_step = 0, Avg. cost = 0.125\n",
      "data_step = 1, Avg. cost = 0.131\n",
      "epoch: 15 total.cost = 0.256\n",
      "data_step = 0, Avg. cost = 0.161\n",
      "data_step = 1, Avg. cost = 0.116\n",
      "epoch: 16 total.cost = 0.277\n",
      "data_step = 0, Avg. cost = 0.123\n",
      "data_step = 1, Avg. cost = 0.129\n",
      "epoch: 17 total.cost = 0.252\n",
      "data_step = 0, Avg. cost = 0.121\n",
      "data_step = 1, Avg. cost = 0.134\n",
      "epoch: 18 total.cost = 0.255\n",
      "data_step = 0, Avg. cost = 0.125\n",
      "data_step = 1, Avg. cost = 0.111\n",
      "epoch: 19 total.cost = 0.236\n"
     ]
    }
   ],
   "source": [
    "total_cost = 0\n",
    "epoch = 0\n",
    "print(\"전체 입력 데이터 : {}\".format(X_train.shape))\n",
    "print(\"전체 출력 데이터 : {}\".format(Y_train.shape))\n",
    "\n",
    "for epoch in range(20):\n",
    "    total_cost = 0\n",
    "    for i in range(total_batch):\n",
    "        batch_xs, batch_ys = next_batch(batch_size*i, batch_size, X_train, Y_train)\n",
    "        batch_xs = batch_xs.reshape(-1, 32, 32, 3)\n",
    "        _, cost_val = sess.run([optimizer, cost], feed_dict={X: batch_xs, Y: batch_ys, keep_prob:0.8})\n",
    "        total_cost += cost_val\n",
    "        if (i==0 or i==total_batch-1):\n",
    "            print('data_step = {}, Avg. cost = {:.3f}'.format(i, cost_val))\n",
    "    print('epoch: {} total.cost = {:.3f}'.format(epoch, total_cost))"
   ]
  },
  {
   "cell_type": "code",
   "execution_count": 123,
   "metadata": {
    "colab": {},
    "colab_type": "code",
    "id": "m2QTMc9zIY5b",
    "outputId": "217d9508-f6aa-453b-cf5b-4d1c85ce91f6"
   },
   "outputs": [
    {
     "name": "stdout",
     "output_type": "stream",
     "text": [
      "(96, 32, 32, 3) (96, 2)\n"
     ]
    }
   ],
   "source": [
    "print(X_test.shape, Y_test.shape)"
   ]
  },
  {
   "cell_type": "code",
   "execution_count": 124,
   "metadata": {
    "colab": {},
    "colab_type": "code",
    "id": "mTzu7nwfIY5f"
   },
   "outputs": [
    {
     "name": "stdout",
     "output_type": "stream",
     "text": [
      "정확도 :  0.95789474\n"
     ]
    }
   ],
   "source": [
    "is_correct = tf.equal(tf.argmax(model,1), tf.argmax(Y,1))\n",
    "accuracy = tf.reduce_mean(tf.cast(is_correct, tf.float32))\n",
    "print('정확도 : ', sess.run(accuracy,\n",
    "                        feed_dict={X:X_train.reshape(-1,32,32,3),\n",
    "                                  Y:Y_train,\n",
    "                                  keep_prob:0.8}))"
   ]
  },
  {
   "cell_type": "code",
   "execution_count": 141,
   "metadata": {
    "colab": {
     "base_uri": "https://localhost:8080/",
     "height": 35
    },
    "colab_type": "code",
    "executionInfo": {
     "elapsed": 495,
     "status": "ok",
     "timestamp": 1571188592378,
     "user": {
      "displayName": "양한솔",
      "photoUrl": "",
      "userId": "12251541929954576282"
     },
     "user_tz": -540
    },
    "id": "6csxt17bS_8U",
    "outputId": "2e64987c-616f-4c39-ff63-91012b6dc570"
   },
   "outputs": [
    {
     "name": "stdout",
     "output_type": "stream",
     "text": [
      "./cnn_sample/cnn_sample/\n"
     ]
    },
    {
     "data": {
      "text/plain": [
       "(336, 448, 3)"
      ]
     },
     "execution_count": 141,
     "metadata": {},
     "output_type": "execute_result"
    }
   ],
   "source": [
    "image_w = 32\n",
    "image_h = 32\n",
    "\n",
    "print(groups_folder_path)\n",
    "img = cv2.imread(groups_folder_path + 'test/green.jpg')\n",
    "# img = cv2.imread('00.jpg')\n",
    "\n",
    "img.shape"
   ]
  },
  {
   "cell_type": "code",
   "execution_count": 135,
   "metadata": {
    "colab": {},
    "colab_type": "code",
    "id": "LNc0w_WMTb51"
   },
   "outputs": [],
   "source": [
    "img = cv2.resize(img, None, fx=image_w/img.shape[1], fy=image_h/img.shape[0])"
   ]
  },
  {
   "cell_type": "code",
   "execution_count": 136,
   "metadata": {
    "colab": {
     "base_uri": "https://localhost:8080/",
     "height": 287
    },
    "colab_type": "code",
    "executionInfo": {
     "elapsed": 732,
     "status": "ok",
     "timestamp": 1571188599323,
     "user": {
      "displayName": "양한솔",
      "photoUrl": "",
      "userId": "12251541929954576282"
     },
     "user_tz": -540
    },
    "id": "uxyg7PsqUmSA",
    "outputId": "76f501ec-a172-40ff-ef07-0aa0350bedd9"
   },
   "outputs": [
    {
     "data": {
      "text/plain": [
       "(32, 32, 3)"
      ]
     },
     "execution_count": 136,
     "metadata": {},
     "output_type": "execute_result"
    },
    {
     "data": {
      "image/png": "[encoded data removed]",
      "text/plain": [
       "<Figure size 432x288 with 1 Axes>"
      ]
     },
     "metadata": {
      "needs_background": "light"
     },
     "output_type": "display_data"
    }
   ],
   "source": [
    "plt.imshow(img)\n",
    "img.shape"
   ]
  },
  {
   "cell_type": "code",
   "execution_count": 137,
   "metadata": {},
   "outputs": [
    {
     "data": {
      "text/plain": [
       "array([[57, 58, 62, ..., 43, 47, 47]], dtype=uint8)"
      ]
     },
     "execution_count": 137,
     "metadata": {},
     "output_type": "execute_result"
    }
   ],
   "source": [
    "img_re = img.reshape(1, 32*32*3)\n",
    "img_re"
   ]
  },
  {
   "cell_type": "code",
   "execution_count": 138,
   "metadata": {},
   "outputs": [
    {
     "name": "stdout",
     "output_type": "stream",
     "text": [
      "예측 레이블 : green\n"
     ]
    }
   ],
   "source": [
    "result = tf.argmax(model, 1)\n",
    "res_idx = sess.run(result, feed_dict={X: img_re.reshape(-1, 32, 32, 3), keep_prob:1})\n",
    "print('예측 레이블 :', label_names[res_idx[0]])"
   ]
  }
 ],
 "metadata": {
  "colab": {
   "collapsed_sections": [],
   "name": "cnn_project.ipynb",
   "provenance": [],
   "toc_visible": true
  },
  "kernelspec": {
   "display_name": "Python 3",
   "language": "python",
   "name": "python3"
  },
  "language_info": {
   "codemirror_mode": {
    "name": "ipython",
    "version": 3
   },
   "file_extension": ".py",
   "mimetype": "text/x-python",
   "name": "python",
   "nbconvert_exporter": "python",
   "pygments_lexer": "ipython3",
   "version": "3.7.4"
  }
 },
 "nbformat": 4,
 "nbformat_minor": 1
}
